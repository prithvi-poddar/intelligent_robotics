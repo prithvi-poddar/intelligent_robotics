{
 "cells": [
  {
   "cell_type": "markdown",
   "metadata": {},
   "source": [
    "# EKF Assignment"
   ]
  },
  {
   "cell_type": "markdown",
   "metadata": {},
   "source": [
    "## Prithvi Poddar (17191)"
   ]
  },
  {
   "cell_type": "markdown",
   "metadata": {},
   "source": [
    "In the following assignment I have used the previously built RRTstar class to generate the path from start to goal, nvigating betweent the obstacles."
   ]
  },
  {
   "cell_type": "markdown",
   "metadata": {},
   "source": [
    "## Path following"
   ]
  },
  {
   "cell_type": "markdown",
   "metadata": {},
   "source": [
    "The RRTstar algorithm givrs us waypoints along the path to be followed. Since the objective of this assignment is the application of EKF, I chode to stick with simple go-to-goal behaviour, taking the agent from one waypoint to another.   \n",
    "Thus, in the animation, the agent slows down as it reaches a waypoint and then speeds up again."
   ]
  },
  {
   "cell_type": "markdown",
   "metadata": {},
   "source": [
    "## Simulating the environment"
   ]
  },
  {
   "cell_type": "markdown",
   "metadata": {},
   "source": [
    "In the code, I have maintined 2 sets of observations,   \n",
    "1. The real coordinates of the agent\n",
    "2. The agent's belief of its coordinates   \n",
    "   \n",
    "\n",
    "In the animations, the black triangle represents the true coordinates of the agent and the red triangle represents the belief of the agent with the ellipse around the red triangle representing the uncertinity in the belief."
   ]
  },
  {
   "cell_type": "markdown",
   "metadata": {},
   "source": [
    "## Extended Kalman Filter"
   ]
  },
  {
   "cell_type": "markdown",
   "metadata": {},
   "source": [
    "Given the motion model of the agent:\n",
    "$$\n",
    "x_t = g(u_t, x_{t-1}) + \\epsilon_t\n",
    "$$   \n",
    "Where $\\epsilon_t$ is a drawn from a Normal distribution with $mean = 0$ and $covariance = R_t$   \n",
    "And the observation model:   \n",
    "$$\n",
    "z_t = h(x_t) + \\delta_t\n",
    "$$   \n",
    "Where $\\delta_t$ is a drawn from a Normal distribution with $mean = 0$ and $covariance = Q_t$   \n",
    "The EKF algorithm can be written as follows:"
   ]
  },
  {
   "cell_type": "markdown",
   "metadata": {},
   "source": [
    "**EKF** ($\\mu_{t-1}, \\Sigma_{t-1}, u_t, z_t$):     \n",
    "1. $\\overline{\\mu_t} = g(u_t, \\mu_{t-1})$   \n",
    "2. $\\overline{\\Sigma_t} = G_t\\Sigma_{t-1}G^{T}_t + R_t$   \n",
    "3. $K_t = \\overline{\\Sigma_t}H^T_t(H_t\\overline{\\Sigma_t}H^T_t + Q_t)^{-1}$   \n",
    "4. $\\mu_t = \\overline{\\mu_t} + K_t(z_t - h(\\overline{\\mu_t}))$   \n",
    "5. $\\Sigma_t = (I - K_tH_t)\\overline{\\Sigma_t}$   \n",
    "6. Return $\\mu_t, \\Sigma_t$   "
   ]
  },
  {
   "cell_type": "markdown",
   "metadata": {},
   "source": [
    "## Motion model"
   ]
  },
  {
   "cell_type": "markdown",
   "metadata": {},
   "source": [
    "For this assignment, I have considered a unicycle model with the following motion model:   \n",
    "$$\n",
    "x_t = x_{t-1} + v\\cos(\\phi_{t-1})dt\n",
    "$$\n",
    "$$\n",
    "y_t = y_{t-1} + v\\sin(\\phi_{t-1})dt\n",
    "$$\n",
    "$$\n",
    "\\phi_t = \\phi_{t-1} + \\omega dt   \n",
    "$$   \n",
    "And the control input being :\n",
    "$$\n",
    "u_t = \\begin{bmatrix}\n",
    "  v\\\\ \n",
    "  \\omega\n",
    "\\end{bmatrix}\n",
    "$$   \n",
    "We can write the jacobian of the motion model as:   \n",
    "$$\n",
    "G_t = \\begin{bmatrix}\n",
    "\\frac{\\partial x_t}{\\partial x_{t-1}} & \\frac{\\partial x_t}{\\partial y_{t-1}} & \\frac{\\partial x_t}{\\partial \\phi_{t-1}}\\\\\n",
    "\\frac{\\partial y_t}{\\partial x_{t-1}} & \\frac{\\partial y_t}{\\partial y_{t-1}} & \\frac{\\partial y_t}{\\partial \\phi_{t-1}}\\\\\n",
    "\\frac{\\partial \\phi_t}{\\partial x_{t-1}} & \\frac{\\partial \\phi_t}{\\partial y_{t-1}} & \\frac{\\partial \\phi_t}{\\partial \\phi_{t-1}}\n",
    "\\end{bmatrix}\n",
    "$$   \n",
    "\n",
    "$$\n",
    "G_t = \\begin{bmatrix}\n",
    "1 & 0 & -v\\sin(\\phi_{t-1})dt\\\\\n",
    "0 & 1 & v\\cos(\\phi_{t-1})dt\\\\\n",
    "0 & 0 & 1\n",
    "\\end{bmatrix}\n",
    "$$"
   ]
  },
  {
   "cell_type": "markdown",
   "metadata": {},
   "source": [
    "## Observation model"
   ]
  },
  {
   "cell_type": "markdown",
   "metadata": {},
   "source": [
    "We assume a sensor that returns the coordinates of the obstacle with respect to the position of the agent.   \n",
    "Given that $(x,y, \\phi)$ are the coordinates of the agent and $(x_o,y_o)$ are the coordintes of the obstacle in the world coordinate, then we ca calculate the coordinates of the obstacle w.r.t the agent $(x', y')$ with the following equations:   \n",
    "$$\n",
    "x' = (x_o-x_t)\\cos(\\phi_t) + (y_o-y_t)\\sin(\\phi_t)\n",
    "$$\n",
    "$$\n",
    "y' = (y_o-y_t)\\cos(\\phi_t) - (x_o-x_t)\\sin(\\phi_t)\n",
    "$$   \n",
    "We can write the jacobian of the observation as follows:   \n",
    "$$\n",
    "H_t = \\begin{bmatrix}\n",
    "\\frac{\\partial x'}{\\partial x_{t}} & \\frac{\\partial x'}{\\partial y_{t}} & \\frac{\\partial x'}{\\partial \\phi_{t}}\\\\\n",
    "\\frac{\\partial y'}{\\partial x_{t}} & \\frac{\\partial y'}{\\partial y_{t}} & \\frac{\\partial y'}{\\partial \\phi_{t}}\n",
    "\\end{bmatrix}\n",
    "$$\n",
    "$$\n",
    "H_t = \\begin{bmatrix}\n",
    "-\\cos(\\phi_t) & -\\sin(\\phi_t)& (x_t-x_o)\\sin(\\phi_t) + (y_o-y_t)\\cos(\\phi_t) \\\\\n",
    "\\sin(\\phi_t) & -\\cos(\\phi_t)& (x_t-x_o)\\cos(\\phi_t) - (y_t-y_o)\\sin(\\phi_t)\n",
    "\\end{bmatrix}\n",
    "$$"
   ]
  }
 ],
 "metadata": {
  "kernelspec": {
   "display_name": "Python 3",
   "language": "python",
   "name": "python3"
  },
  "language_info": {
   "codemirror_mode": {
    "name": "ipython",
    "version": 3
   },
   "file_extension": ".py",
   "mimetype": "text/x-python",
   "name": "python",
   "nbconvert_exporter": "python",
   "pygments_lexer": "ipython3",
   "version": "3.8.5"
  }
 },
 "nbformat": 4,
 "nbformat_minor": 4
}
